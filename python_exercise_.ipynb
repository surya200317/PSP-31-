{
  "cells": [
    {
      "cell_type": "markdown",
      "metadata": {
        "id": "view-in-github",
        "colab_type": "text"
      },
      "source": [
        "<a href=\"https://colab.research.google.com/github/surya200317/PSP-31-/blob/main/python_exercise_.ipynb\" target=\"_parent\"><img src=\"https://colab.research.google.com/assets/colab-badge.svg\" alt=\"Open In Colab\"/></a>"
      ]
    },
    {
      "cell_type": "markdown",
      "id": "13c31c79",
      "metadata": {
        "id": "13c31c79"
      },
      "source": [
        "## avg of three numbers"
      ]
    },
    {
      "cell_type": "code",
      "execution_count": null,
      "id": "409fa7d0",
      "metadata": {
        "id": "409fa7d0",
        "outputId": "a5b633cc-a6a8-4956-9105-2a86c28e54c4"
      },
      "outputs": [
        {
          "name": "stdout",
          "output_type": "stream",
          "text": [
            "20.0\n",
            "<class 'float'>\n"
          ]
        }
      ],
      "source": [
        "a=10\n",
        "b=20\n",
        "c=30\n",
        "avg=(a+b+c)/3\n",
        "print(avg)\n",
        "print(type(avg))"
      ]
    },
    {
      "cell_type": "markdown",
      "id": "7ff6ec95",
      "metadata": {
        "id": "7ff6ec95"
      },
      "source": [
        "## multiplication of three numbers"
      ]
    },
    {
      "cell_type": "code",
      "execution_count": null,
      "id": "7d761fb5",
      "metadata": {
        "id": "7d761fb5",
        "outputId": "d5d9d977-dde5-4a83-b69a-188fdde75d40"
      },
      "outputs": [
        {
          "name": "stdout",
          "output_type": "stream",
          "text": [
            "6000\n",
            "<class 'type'>\n"
          ]
        }
      ],
      "source": [
        "a=10\n",
        "b=20\n",
        "c=30\n",
        "multi=(a*b*c)\n",
        "print(multi)\n",
        "print(type)"
      ]
    },
    {
      "cell_type": "markdown",
      "id": "ea25417b",
      "metadata": {
        "id": "ea25417b"
      },
      "source": [
        "## Addition of two numbers (dynamic)"
      ]
    },
    {
      "cell_type": "markdown",
      "id": "617b04ac",
      "metadata": {
        "id": "617b04ac"
      },
      "source": [
        "a=int(input(\"enter the number:\"))\n",
        "b=int(input(\"enter the number:\"))\n",
        "add=(a+b)\n",
        "print(add)\n",
        "print(type)"
      ]
    },
    {
      "cell_type": "markdown",
      "id": "e31e7f10",
      "metadata": {
        "id": "e31e7f10"
      },
      "source": [
        "## convert int to float\n"
      ]
    },
    {
      "cell_type": "code",
      "execution_count": null,
      "id": "64cfbd0d",
      "metadata": {
        "id": "64cfbd0d",
        "outputId": "8e8c58d6-32bd-4eea-e733-34f043b994a0"
      },
      "outputs": [
        {
          "name": "stdout",
          "output_type": "stream",
          "text": [
            "<class 'int'>\n",
            "<class 'float'>\n"
          ]
        }
      ],
      "source": [
        "a=10\n",
        "print(type(a))\n",
        "b=float(a)\n",
        "print(type(b))\n"
      ]
    },
    {
      "cell_type": "markdown",
      "id": "5f8024d4",
      "metadata": {
        "id": "5f8024d4"
      },
      "source": [
        "### convert float to int"
      ]
    },
    {
      "cell_type": "code",
      "execution_count": null,
      "id": "78eba4fd",
      "metadata": {
        "id": "78eba4fd",
        "outputId": "d2ff7625-794b-40e8-c5e6-1ba4291a277d"
      },
      "outputs": [
        {
          "name": "stdout",
          "output_type": "stream",
          "text": [
            "<class 'float'>\n",
            "<class 'int'>\n",
            "12\n"
          ]
        }
      ],
      "source": [
        "a=12.5\n",
        "b=int(a)\n",
        "print(type(a))\n",
        "print(type(b))\n",
        "print(b)"
      ]
    },
    {
      "cell_type": "markdown",
      "id": "26ab67db",
      "metadata": {
        "id": "26ab67db"
      },
      "source": [
        "### convert int to string"
      ]
    },
    {
      "cell_type": "code",
      "execution_count": null,
      "id": "2fc8436a",
      "metadata": {
        "id": "2fc8436a",
        "outputId": "115ced97-7689-43e0-d174-8e32275cee39"
      },
      "outputs": [
        {
          "name": "stdout",
          "output_type": "stream",
          "text": [
            "<class 'int'>\n",
            "<class 'str'>\n"
          ]
        }
      ],
      "source": [
        "a=25\n",
        "b=str(a)\n",
        "print(type(a))\n",
        "print(type(b))"
      ]
    },
    {
      "cell_type": "markdown",
      "id": "37a6a212",
      "metadata": {
        "id": "37a6a212"
      },
      "source": [
        "### convert string to int (not possible only  if values given in alph)"
      ]
    },
    {
      "cell_type": "markdown",
      "id": "47aab12f",
      "metadata": {
        "id": "47aab12f"
      },
      "source": [
        "## Boolean "
      ]
    },
    {
      "cell_type": "code",
      "execution_count": null,
      "id": "ad3ecce1",
      "metadata": {
        "id": "ad3ecce1",
        "outputId": "0344bb28-fe90-471a-dab9-c7de4bd4d101"
      },
      "outputs": [
        {
          "name": "stdout",
          "output_type": "stream",
          "text": [
            "False\n",
            "<class 'bool'>\n"
          ]
        }
      ],
      "source": [
        "z=10\n",
        "b=12\n",
        "c=b<z\n",
        "print(c)\n",
        "print(type(c))"
      ]
    },
    {
      "cell_type": "markdown",
      "id": "1463bda0",
      "metadata": {
        "id": "1463bda0"
      },
      "source": [
        "### boolean into int \n"
      ]
    },
    {
      "cell_type": "code",
      "execution_count": null,
      "id": "b90f8297",
      "metadata": {
        "id": "b90f8297",
        "outputId": "575c847c-a35c-4c20-a6e0-9e8144625386"
      },
      "outputs": [
        {
          "name": "stdout",
          "output_type": "stream",
          "text": [
            "0\n",
            "<class 'int'>\n"
          ]
        }
      ],
      "source": [
        "z=10\n",
        "b=12\n",
        "c=b<z\n",
        "c=int(c)\n",
        "print(c)\n",
        "print(type(c))"
      ]
    },
    {
      "cell_type": "code",
      "execution_count": null,
      "id": "2e5ab6d9",
      "metadata": {
        "id": "2e5ab6d9",
        "outputId": "764d6f8a-0a39-4626-dcfc-580a258adec8"
      },
      "outputs": [
        {
          "name": "stdout",
          "output_type": "stream",
          "text": [
            "True\n",
            "<class 'bool'>\n"
          ]
        }
      ],
      "source": [
        "a=10\n",
        "b=5\n",
        "c=a>b\n",
        "print(c)\n",
        "print(type(c))"
      ]
    },
    {
      "cell_type": "code",
      "execution_count": null,
      "id": "58553570",
      "metadata": {
        "id": "58553570",
        "outputId": "884863ed-a567-4454-a192-be158392011e"
      },
      "outputs": [
        {
          "name": "stdout",
          "output_type": "stream",
          "text": [
            "<class 'bool'>\n",
            "<class 'int'>\n"
          ]
        }
      ],
      "source": [
        "a=bool(10)\n",
        "print(type(a))\n",
        "b=int(a)\n",
        "print(type(b))\n",
        "      \n"
      ]
    },
    {
      "cell_type": "code",
      "execution_count": null,
      "id": "a2eebdf6",
      "metadata": {
        "id": "a2eebdf6",
        "outputId": "d92cb037-4c26-49c5-fd88-99b6626a7583"
      },
      "outputs": [
        {
          "name": "stdout",
          "output_type": "stream",
          "text": [
            "<class 'bool'>\n",
            "<class 'float'>\n"
          ]
        }
      ],
      "source": [
        "a=bool(10)\n",
        "print(type(a))\n",
        "b=float(a)\n",
        "print(type(b))\n",
        "      "
      ]
    },
    {
      "cell_type": "code",
      "execution_count": null,
      "id": "f9f76b9a",
      "metadata": {
        "id": "f9f76b9a",
        "outputId": "52b2e4b6-6359-41a3-dbf6-01d6cb1c0a9e"
      },
      "outputs": [
        {
          "name": "stdout",
          "output_type": "stream",
          "text": [
            "True\n",
            "<class 'bool'>\n",
            "True\n",
            "<class 'str'>\n"
          ]
        }
      ],
      "source": [
        "a=10\n",
        "b=5\n",
        "c=a>b\n",
        "d=str(c)\n",
        "print(c)\n",
        "print(type(c))\n",
        "print(d)\n",
        "print(type(d))"
      ]
    },
    {
      "cell_type": "markdown",
      "id": "fc9ee3ee",
      "metadata": {
        "id": "fc9ee3ee"
      },
      "source": [
        "## complex to int"
      ]
    },
    {
      "cell_type": "code",
      "execution_count": null,
      "id": "e111cc24",
      "metadata": {
        "id": "e111cc24",
        "outputId": "89aeb765-9df6-4529-e354-f21456de52ee"
      },
      "outputs": [
        {
          "name": "stdout",
          "output_type": "stream",
          "text": [
            "<class 'complex'>\n",
            "<class 'str'>\n",
            "<class 'bool'>\n"
          ]
        },
        {
          "ename": "TypeError",
          "evalue": "can't convert complex to float",
          "output_type": "error",
          "traceback": [
            "\u001b[1;31m---------------------------------------------------------------------------\u001b[0m",
            "\u001b[1;31mTypeError\u001b[0m                                 Traceback (most recent call last)",
            "\u001b[1;32m~\\AppData\\Local\\Temp/ipykernel_4220/140929985.py\u001b[0m in \u001b[0;36m<module>\u001b[1;34m\u001b[0m\n\u001b[0;32m      5\u001b[0m \u001b[0md\u001b[0m\u001b[1;33m=\u001b[0m\u001b[0mbool\u001b[0m\u001b[1;33m(\u001b[0m\u001b[0ma\u001b[0m\u001b[1;33m)\u001b[0m\u001b[1;33m\u001b[0m\u001b[1;33m\u001b[0m\u001b[0m\n\u001b[0;32m      6\u001b[0m \u001b[0mprint\u001b[0m\u001b[1;33m(\u001b[0m\u001b[0mtype\u001b[0m\u001b[1;33m(\u001b[0m\u001b[0md\u001b[0m\u001b[1;33m)\u001b[0m\u001b[1;33m)\u001b[0m\u001b[1;33m\u001b[0m\u001b[1;33m\u001b[0m\u001b[0m\n\u001b[1;32m----> 7\u001b[1;33m \u001b[0me\u001b[0m\u001b[1;33m=\u001b[0m\u001b[0mfloat\u001b[0m\u001b[1;33m(\u001b[0m\u001b[0ma\u001b[0m\u001b[1;33m)\u001b[0m\u001b[1;33m\u001b[0m\u001b[1;33m\u001b[0m\u001b[0m\n\u001b[0m\u001b[0;32m      8\u001b[0m \u001b[0mprint\u001b[0m\u001b[1;33m(\u001b[0m\u001b[0mtype\u001b[0m\u001b[1;33m(\u001b[0m\u001b[0me\u001b[0m\u001b[1;33m)\u001b[0m\u001b[1;33m)\u001b[0m\u001b[1;33m\u001b[0m\u001b[1;33m\u001b[0m\u001b[0m\n",
            "\u001b[1;31mTypeError\u001b[0m: can't convert complex to float"
          ]
        }
      ],
      "source": [
        "a=5+2j\n",
        "print(type(a))\n",
        "c=str(a)\n",
        "print(type(c))\n",
        "d=bool(a)\n",
        "print(type(d))\n",
        "e=float(a)\n",
        "print(type(e))"
      ]
    },
    {
      "cell_type": "code",
      "execution_count": null,
      "id": "8b93dec2",
      "metadata": {
        "id": "8b93dec2"
      },
      "outputs": [],
      "source": [
        ""
      ]
    }
  ],
  "metadata": {
    "kernelspec": {
      "display_name": "Python 3 (ipykernel)",
      "language": "python",
      "name": "python3"
    },
    "language_info": {
      "codemirror_mode": {
        "name": "ipython",
        "version": 3
      },
      "file_extension": ".py",
      "mimetype": "text/x-python",
      "name": "python",
      "nbconvert_exporter": "python",
      "pygments_lexer": "ipython3",
      "version": "3.9.7"
    },
    "colab": {
      "name": "python exercise .ipynb",
      "provenance": [],
      "include_colab_link": true
    }
  },
  "nbformat": 4,
  "nbformat_minor": 5
}