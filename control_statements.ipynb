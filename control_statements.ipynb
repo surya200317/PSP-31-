{
  "cells": [
    {
      "cell_type": "markdown",
      "metadata": {
        "id": "view-in-github",
        "colab_type": "text"
      },
      "source": [
        "<a href=\"https://colab.research.google.com/github/surya200317/PSP-31-/blob/main/control_statements.ipynb\" target=\"_parent\"><img src=\"https://colab.research.google.com/assets/colab-badge.svg\" alt=\"Open In Colab\"/></a>"
      ]
    },
    {
      "cell_type": "code",
      "execution_count": null,
      "metadata": {
        "colab": {
          "base_uri": "https://localhost:8080/"
        },
        "id": "ctTcS_U6p1cy",
        "outputId": "f26aeecd-d441-411d-a952-9238b9b1d91a"
      },
      "outputs": [
        {
          "name": "stdout",
          "output_type": "stream",
          "text": [
            "your not eligible\n"
          ]
        }
      ],
      "source": [
        "a=2\n",
        "if a>=18:\n",
        "        print(\"you are eligible for voting\")\n",
        "else:\n",
        "      print(\"your not eligible\")"
      ]
    },
    {
      "cell_type": "code",
      "execution_count": null,
      "metadata": {
        "colab": {
          "base_uri": "https://localhost:8080/"
        },
        "id": "-_YS1zXlppEk",
        "outputId": "c917faab-703a-4d29-f575-e12f25aabb14"
      },
      "outputs": [
        {
          "name": "stdout",
          "output_type": "stream",
          "text": [
            "enter your age19\n",
            "your are eligible for voting\n"
          ]
        }
      ],
      "source": [
        "a=int(input(\"enter your age\"))\n",
        "if a>=18:\n",
        "  print(\"your are eligible for voting\")\n",
        "else:\n",
        "  print(\"you are not eligible\")"
      ]
    },
    {
      "cell_type": "code",
      "execution_count": null,
      "metadata": {
        "colab": {
          "base_uri": "https://localhost:8080/"
        },
        "id": "BQYwUJ7jsX9I",
        "outputId": "af1a7113-87c9-44f7-e1ce-c3f8e67462eb"
      },
      "outputs": [
        {
          "name": "stdout",
          "output_type": "stream",
          "text": [
            "enter your number10\n",
            "enter your number12\n",
            "enter your number13\n",
            "c is greater\n"
          ]
        }
      ],
      "source": [
        "a=int(input(\"enter your number\"))\n",
        "b=int(input(\"enter your number\"))\n",
        "c=int(input(\"enter your number\"))\n",
        "if a>b and a>c:\n",
        "  print(\"a is greater:\")\n",
        "elif b>a and b>c:\n",
        "  print(\"b is greater:\")\n",
        "else:\n",
        "  print(\"c is greater\")\n",
        "\n",
        "\n"
      ]
    },
    {
      "cell_type": "code",
      "execution_count": null,
      "metadata": {
        "colab": {
          "base_uri": "https://localhost:8080/"
        },
        "id": "9O8ZmKsTvBMa",
        "outputId": "fa88b7c4-36a1-4aa0-877f-a22ff3010f6a"
      },
      "outputs": [
        {
          "name": "stdout",
          "output_type": "stream",
          "text": [
            "a)enter your number10\n",
            "b)enter your number20\n",
            "c)enter your number30\n",
            "d)enter your number40\n",
            "e)enter your number50\n",
            "e is greater\n"
          ]
        }
      ],
      "source": [
        "a=int(input(\"a)enter your number\"))\n",
        "b=int(input(\"b)enter your number\"))\n",
        "c=int(input(\"c)enter your number\"))\n",
        "d=int(input(\"d)enter your number\"))\n",
        "e=int(input(\"e)enter your number\"))\n",
        "if a>b and a>c and a>b and a>d and a>e:\n",
        "  print(\"a is greater:\")\n",
        "elif b>a and b>c and b>d and b>e:\n",
        "  print(\"b is greater:\")\n",
        "elif c>a and c>b and c>d and c>e:\n",
        "  print(\"c is greater\")\n",
        "elif d>a and d>c and d>b and d>e:\n",
        "  print(\"d is greater\")\n",
        "else:\n",
        "  print(\"e is greater\")\n"
      ]
    },
    {
      "cell_type": "code",
      "execution_count": null,
      "metadata": {
        "id": "n4I3G3Rqws02"
      },
      "outputs": [],
      "source": [
        "a=int(input(\"a)enter marks of 1st student\"))\n",
        "b=int(input(\"b)enter marks of 2nd student\"))\n",
        "c=int(input(\"c)enter marks of 3rd student\"))\n",
        "d=int(input(\"d)enter marks of 4th student\"))\n",
        "e=int(input(\"e)enter marks of 5th student\"))\n",
        "if a>b and a>c and a>b and a>d and a>e:\n",
        "  print(\"1st is greater:\")\n",
        "elif b>a and b>c and b>d and b>e:\n",
        "  print(\"2nd is greater:\")\n",
        "elif c>a and c>b and c>d and c>e:\n",
        "  print(\"3rd is greater\")\n",
        "elif d>a and d>c and d>b and d>e:\n",
        "  print(\"4th is greater\")\n",
        "else:\n",
        "  print(\"5t is greater\")\n"
      ]
    },
    {
      "cell_type": "code",
      "execution_count": null,
      "metadata": {
        "colab": {
          "background_save": true
        },
        "id": "xE9PXc60yIgW"
      },
      "outputs": [],
      "source": [
        "for (int i = 1drag; i < 5; i = i + 1) {\n",
        " print(\"%d i);\n"
      ]
    },
    {
      "cell_type": "code",
      "source": [
        "for i in range(1,100,2):\n",
        "  print(i)"
      ],
      "metadata": {
        "colab": {
          "base_uri": "https://localhost:8080/"
        },
        "id": "CCKFkfM455Tc",
        "outputId": "325b7d6e-1db9-4815-b23a-1c5fa4757f40"
      },
      "execution_count": null,
      "outputs": [
        {
          "output_type": "stream",
          "name": "stdout",
          "text": [
            "1\n",
            "3\n",
            "5\n",
            "7\n",
            "9\n",
            "11\n",
            "13\n",
            "15\n",
            "17\n",
            "19\n",
            "21\n",
            "23\n",
            "25\n",
            "27\n",
            "29\n",
            "31\n",
            "33\n",
            "35\n",
            "37\n",
            "39\n",
            "41\n",
            "43\n",
            "45\n",
            "47\n",
            "49\n",
            "51\n",
            "53\n",
            "55\n",
            "57\n",
            "59\n",
            "61\n",
            "63\n",
            "65\n",
            "67\n",
            "69\n",
            "71\n",
            "73\n",
            "75\n",
            "77\n",
            "79\n",
            "81\n",
            "83\n",
            "85\n",
            "87\n",
            "89\n",
            "91\n",
            "93\n",
            "95\n",
            "97\n",
            "99\n"
          ]
        }
      ]
    }
  ],
  "metadata": {
    "colab": {
      "name": "control statements.ipynb",
      "provenance": [],
      "authorship_tag": "ABX9TyOeXzcT5UTwn/4GYTDEDwyx",
      "include_colab_link": true
    },
    "kernelspec": {
      "display_name": "Python 3",
      "name": "python3"
    },
    "language_info": {
      "name": "python"
    }
  },
  "nbformat": 4,
  "nbformat_minor": 0
}