{
  "nbformat": 4,
  "nbformat_minor": 0,
  "metadata": {
    "colab": {
      "name": "string methods",
      "provenance": [],
      "collapsed_sections": [],
      "authorship_tag": "ABX9TyOVX0YYK3cL+ai+iYLoHKil",
      "include_colab_link": true
    },
    "kernelspec": {
      "name": "python3",
      "display_name": "Python 3"
    },
    "language_info": {
      "name": "python"
    }
  },
  "cells": [
    {
      "cell_type": "markdown",
      "metadata": {
        "id": "view-in-github",
        "colab_type": "text"
      },
      "source": [
        "<a href=\"https://colab.research.google.com/github/surya200317/PSP-31-/blob/main/string_methods.ipynb\" target=\"_parent\"><img src=\"https://colab.research.google.com/assets/colab-badge.svg\" alt=\"Open In Colab\"/></a>"
      ]
    },
    {
      "cell_type": "markdown",
      "source": [
        "string methods"
      ],
      "metadata": {
        "id": "epA0JsspY_uR"
      }
    },
    {
      "cell_type": "code",
      "execution_count": 3,
      "metadata": {
        "colab": {
          "base_uri": "https://localhost:8080/"
        },
        "id": "xnc0omt1Ysph",
        "outputId": "fd7c2950-8b82-4a1e-b3bc-8cb9745d3a84"
      },
      "outputs": [
        {
          "output_type": "stream",
          "name": "stdout",
          "text": [
            "RRR MOVIE HAS BEEN RELEASED\n",
            "rrr movie has been released\n"
          ]
        }
      ],
      "source": [
        "a= \"RRR movie has been released\"\n",
        "print(a.upper())\n",
        "b= \"RRR movie has been released\"\n",
        "print(b.lower())\n"
      ]
    },
    {
      "cell_type": "code",
      "source": [
        "a= \"RRR movie has been released\"\n",
        "print(a.upper())\n",
        "print(a.upper())"
      ],
      "metadata": {
        "id": "xAx3Gx_wZcMI"
      },
      "execution_count": null,
      "outputs": []
    },
    {
      "cell_type": "code",
      "source": [
        "a= \"RRR movie has been released     \"\n",
        "print(a.strip())"
      ],
      "metadata": {
        "colab": {
          "base_uri": "https://localhost:8080/"
        },
        "id": "FFVYgCLgZ7mx",
        "outputId": "4437b90b-1e8f-4cf4-92d5-18321f129475"
      },
      "execution_count": 5,
      "outputs": [
        {
          "output_type": "stream",
          "name": "stdout",
          "text": [
            "RRR movie       has been released\n"
          ]
        }
      ]
    },
    {
      "cell_type": "code",
      "source": [
        "a= \"RRR movie has been released\"\n",
        "print(a.replace(\"RRR\", \"Radhe\"))\n",
        "print(a)\n",
        "print(a.replace(\"e\",\"f\"))"
      ],
      "metadata": {
        "colab": {
          "base_uri": "https://localhost:8080/"
        },
        "id": "oPFAPmh-ahtU",
        "outputId": "0f9564bd-8305-4dbd-dd70-aea9c8491b3d"
      },
      "execution_count": 8,
      "outputs": [
        {
          "output_type": "stream",
          "name": "stdout",
          "text": [
            "Radhe movie has been released\n",
            "RRR movie has been released\n",
            "RRR movif has bffn rflfasfd\n"
          ]
        }
      ]
    },
    {
      "cell_type": "code",
      "source": [
        "#spliting\n",
        "a=\"RRR movie has been released\"\n",
        "print(a.split())\n",
        "c=\"RRR,movie has been released\"\n",
        "print(c.split(','))\n"
      ],
      "metadata": {
        "colab": {
          "base_uri": "https://localhost:8080/"
        },
        "id": "7Re6oU7fcfAT",
        "outputId": "93b3f5d5-18a2-425b-9096-43f7f32ef6d4"
      },
      "execution_count": 12,
      "outputs": [
        {
          "output_type": "stream",
          "name": "stdout",
          "text": [
            "['RRR', 'movie', 'has', 'been', 'released']\n",
            "['RRR', 'movie has been released']\n"
          ]
        }
      ]
    },
    {
      "cell_type": "code",
      "source": [
        "from typing_extensions import Concatenate\n",
        "#concatination\n",
        "a=\"RRR movie has been released\"\n",
        "b=\"I went to movie with friends\"\n",
        "#print(a+\" \"+b)\n",
        "#print(\"% a % b\" %(a,b))\n",
        "a=123\n",
        "b=\"hello {}\" \n",
        "print(b.format(a,b))\n",
        "\n",
        "\n"
      ],
      "metadata": {
        "colab": {
          "base_uri": "https://localhost:8080/"
        },
        "id": "AzABo0J8d__q",
        "outputId": "1e98c342-e37b-43da-a4fd-63b45d95225e"
      },
      "execution_count": 25,
      "outputs": [
        {
          "output_type": "stream",
          "name": "stdout",
          "text": [
            "hello 123\n"
          ]
        }
      ]
    },
    {
      "cell_type": "code",
      "source": [
        "price=150\n",
        "quantity=3\n",
        "item=1\n",
        "name=\"cocola\"\n",
        "myorder=\"I buyed {3} with {0} having {1} and purchesed {2}\"\n",
        "print(myorder.format(price,quantity,item,name))\n"
      ],
      "metadata": {
        "colab": {
          "base_uri": "https://localhost:8080/"
        },
        "id": "gO8skKZ2hTR6",
        "outputId": "9589c860-2f65-4d4c-a626-097e10b302d5"
      },
      "execution_count": 27,
      "outputs": [
        {
          "output_type": "stream",
          "name": "stdout",
          "text": [
            "I buyed cocola with 150 having 3 and purchesed 1\n"
          ]
        }
      ]
    },
    {
      "cell_type": "code",
      "source": [
        "sub1=int(input(\"enter math marks\"))\n",
        "sub2=int(input(\"enter eng marks\"))\n",
        "sub3=int(input(\"enter cse marks\"))\n",
        "sub4=int(input(\"enter chem marks\"))\n",
        "marks=\"my math marks are {0} , eng marks are {1} , cse marks are {2} ,chem marks are {3}\"\n",
        "print(marks.format(sub1,sub2,sub3,sub4))"
      ],
      "metadata": {
        "colab": {
          "base_uri": "https://localhost:8080/"
        },
        "id": "ksYdlCYgkEMg",
        "outputId": "af8efdd6-fb30-41f2-9c05-d6de52d083c1"
      },
      "execution_count": 30,
      "outputs": [
        {
          "output_type": "stream",
          "name": "stdout",
          "text": [
            "enter math marks20\n",
            "enter eng marks30\n",
            "enter cse marks30\n",
            "enter chem marks30\n",
            "my math marks are20 , eng marks are 30 , cse marks are 30 ,chem marks are 30\n"
          ]
        }
      ]
    },
    {
      "cell_type": "code",
      "source": [
        "#characters\n",
        "a=\"hello suraj \\\"hi\\\"\"\n",
        "print(a)\n",
        "b=\"hey kiran \\\\hello\"\n",
        "print(b)\n",
        "c=\"hello \\nkiran\"\n",
        "print(c)\n",
        "d=\"hello \\tkiran\"\n",
        "print(d)"
      ],
      "metadata": {
        "colab": {
          "base_uri": "https://localhost:8080/"
        },
        "id": "DcOM4mNNl08I",
        "outputId": "9093b048-9833-4b0f-cdb0-e2eb6888a264"
      },
      "execution_count": 45,
      "outputs": [
        {
          "output_type": "stream",
          "name": "stdout",
          "text": [
            "hello suraj \"hi\"\n",
            "hey kiran \\hello\n",
            "hello \n",
            "kiran\n",
            "hello \tkiran\n"
          ]
        }
      ]
    },
    {
      "cell_type": "code",
      "source": [
        "c=\"hello\\bkiran bahu\"\n",
        "print(c)"
      ],
      "metadata": {
        "colab": {
          "base_uri": "https://localhost:8080/"
        },
        "id": "b1iQbY6jnW1g",
        "outputId": "92af8c1b-9f76-45b2-ad79-6cb43a6ad4fd"
      },
      "execution_count": 50,
      "outputs": [
        {
          "output_type": "stream",
          "name": "stdout",
          "text": [
            "hello\bkiran bahu\n"
          ]
        }
      ]
    },
    {
      "cell_type": "code",
      "source": [
        "#octal\n",
        "a= \"\\110\\145\\154\\154\\157\"\n",
        "print(a)\n"
      ],
      "metadata": {
        "colab": {
          "base_uri": "https://localhost:8080/"
        },
        "id": "oNiVuRZDov3i",
        "outputId": "5dadf5ce-22a6-43d6-9839-21f477f41a7a"
      },
      "execution_count": 55,
      "outputs": [
        {
          "output_type": "stream",
          "name": "stdout",
          "text": [
            "Hello\n"
          ]
        }
      ]
    },
    {
      "cell_type": "code",
      "source": [
        "#string methods\n",
        "a=\"suraj\"\n",
        "b=a.capitalize()\n",
        "print(b)\n"
      ],
      "metadata": {
        "colab": {
          "base_uri": "https://localhost:8080/"
        },
        "id": "0JdkpZbVqge7",
        "outputId": "1bec20b3-c114-4299-c394-a014ab161207"
      },
      "execution_count": 56,
      "outputs": [
        {
          "output_type": "stream",
          "name": "stdout",
          "text": [
            "Suraj\n"
          ]
        }
      ]
    },
    {
      "cell_type": "code",
      "source": [
        "a=\"Suraj\"\n",
        "b=a.casefold()\n",
        "print(b)"
      ],
      "metadata": {
        "colab": {
          "base_uri": "https://localhost:8080/"
        },
        "id": "RJvZpkG9rO8X",
        "outputId": "b7fe888c-efa9-4652-c68b-abfa86276925"
      },
      "execution_count": 57,
      "outputs": [
        {
          "output_type": "stream",
          "name": "stdout",
          "text": [
            "suraj\n"
          ]
        }
      ]
    },
    {
      "cell_type": "code",
      "source": [
        "a=\"suraj\"\n",
        "b=a.center(30)\n",
        "print(b)"
      ],
      "metadata": {
        "colab": {
          "base_uri": "https://localhost:8080/"
        },
        "id": "yZFrKhfQbCBK",
        "outputId": "7fcf5b8e-fdc2-457b-e2b9-46615b634271"
      },
      "execution_count": 58,
      "outputs": [
        {
          "output_type": "stream",
          "name": "stdout",
          "text": [
            "            suraj             \n"
          ]
        }
      ]
    },
    {
      "cell_type": "code",
      "source": [
        "#count\n",
        "a=\"hello world welcome to my world\"\n",
        "b=a.count(\"\")\n",
        "print(b)\n",
        "print(len(a))"
      ],
      "metadata": {
        "colab": {
          "base_uri": "https://localhost:8080/"
        },
        "id": "JrLvup4Ur5EP",
        "outputId": "f772daef-bc3f-4e58-9607-baa7c7583439"
      },
      "execution_count": 66,
      "outputs": [
        {
          "output_type": "stream",
          "name": "stdout",
          "text": [
            "32\n",
            "31\n"
          ]
        }
      ]
    }
  ]
}