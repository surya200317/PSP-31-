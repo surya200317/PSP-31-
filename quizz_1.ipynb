{
  "nbformat": 4,
  "nbformat_minor": 0,
  "metadata": {
    "colab": {
      "name": "quizz 1",
      "provenance": [],
      "authorship_tag": "ABX9TyOekpFZvFGfCaHq2MEtHv/6",
      "include_colab_link": true
    },
    "kernelspec": {
      "name": "python3",
      "display_name": "Python 3"
    },
    "language_info": {
      "name": "python"
    }
  },
  "cells": [
    {
      "cell_type": "markdown",
      "metadata": {
        "id": "view-in-github",
        "colab_type": "text"
      },
      "source": [
        "<a href=\"https://colab.research.google.com/github/surya200317/PSP-31-/blob/main/quizz_1.ipynb\" target=\"_parent\"><img src=\"https://colab.research.google.com/assets/colab-badge.svg\" alt=\"Open In Colab\"/></a>"
      ]
    },
    {
      "cell_type": "code",
      "execution_count": 1,
      "metadata": {
        "colab": {
          "base_uri": "https://localhost:8080/"
        },
        "id": "6rfZoH66rWfh",
        "outputId": "14a761f9-e42a-46ac-cf97-5dba59a16445"
      },
      "outputs": [
        {
          "output_type": "stream",
          "name": "stdout",
          "text": [
            "Result = 3 2\n"
          ]
        }
      ],
      "source": [
        "## Write a program of swapping of two numbers \n",
        "\n",
        "a=2\n",
        "b=3\n",
        "a=a+b\n",
        "b=a-b\n",
        "a=a-b\n",
        "print(\"Result =\",a,b)"
      ]
    },
    {
      "cell_type": "code",
      "source": [
        "## Find out the square root of the number\n",
        "a=4\n",
        "b=a**1/2\n",
        "print(b)"
      ],
      "metadata": {
        "colab": {
          "base_uri": "https://localhost:8080/"
        },
        "id": "suEqLZSvricW",
        "outputId": "a375ddf8-59a3-4806-ffc8-c49fe243d89e"
      },
      "execution_count": 2,
      "outputs": [
        {
          "output_type": "stream",
          "name": "stdout",
          "text": [
            "2.0\n"
          ]
        }
      ]
    },
    {
      "cell_type": "code",
      "source": [
        "##Add Black color to the given list in the 4th place.Rainbow = ['Red', 'Orange', 'Yellow', 'Green'] \n",
        "Rainbow=[\"Red\",\"Orange\",\"Yellow\",\"Green\"]\n",
        "Rainbow.insert(3,\"Black\")\n",
        "print(Rainbow)"
      ],
      "metadata": {
        "colab": {
          "base_uri": "https://localhost:8080/"
        },
        "id": "tofahwZLrwdx",
        "outputId": "5ea84ab5-3f72-46fa-9772-c199eca16e83"
      },
      "execution_count": 3,
      "outputs": [
        {
          "output_type": "stream",
          "name": "stdout",
          "text": [
            "['Red', 'Orange', 'Yellow', 'Black', 'Green']\n"
          ]
        }
      ]
    },
    {
      "cell_type": "code",
      "source": [
        "## Find out the Largest of three numbers from the give input\n",
        "a=5\n",
        "b=3\n",
        "c=2\n",
        "if a>b and a>c:\n",
        "    print(a)\n",
        "elif b>a and b>c:\n",
        "    print(b)\n",
        "else:\n",
        "    print(c)"
      ],
      "metadata": {
        "colab": {
          "base_uri": "https://localhost:8080/"
        },
        "id": "rc-jdlzYsEsj",
        "outputId": "ff18276b-aafc-41de-e604-56edede9c425"
      },
      "execution_count": 4,
      "outputs": [
        {
          "output_type": "stream",
          "name": "stdout",
          "text": [
            "5\n"
          ]
        }
      ]
    }
  ]
}