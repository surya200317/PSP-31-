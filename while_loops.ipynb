{
  "nbformat": 4,
  "nbformat_minor": 0,
  "metadata": {
    "colab": {
      "name": "while loops",
      "provenance": [],
      "authorship_tag": "ABX9TyPYvkUN7UIUGJx9D5Sas0oy",
      "include_colab_link": true
    },
    "kernelspec": {
      "name": "python3",
      "display_name": "Python 3"
    },
    "language_info": {
      "name": "python"
    }
  },
  "cells": [
    {
      "cell_type": "markdown",
      "metadata": {
        "id": "view-in-github",
        "colab_type": "text"
      },
      "source": [
        "<a href=\"https://colab.research.google.com/github/surya200317/PSP-31-/blob/main/while_loops.ipynb\" target=\"_parent\"><img src=\"https://colab.research.google.com/assets/colab-badge.svg\" alt=\"Open In Colab\"/></a>"
      ]
    },
    {
      "cell_type": "code",
      "execution_count": null,
      "metadata": {
        "id": "HhnT4HbzLyD0",
        "colab": {
          "base_uri": "https://localhost:8080/"
        },
        "outputId": "d71b9bce-511b-453e-cc42-6dedb323ce44"
      },
      "outputs": [
        {
          "output_type": "stream",
          "name": "stdout",
          "text": [
            "enter the value of 1st side:2\n",
            "enter the value of 2nd side:3\n",
            "enter the value of 3rd side:4\n",
            "scalene\n"
          ]
        }
      ],
      "source": [
        "#Checking whether the triangle is equilateral, isosceles, or scalene triangle.\n",
        "a=input(\"enter the value of 1st side:\")\n",
        "b=input(\"enter the value of 2nd side:\")\n",
        "c=input(\"enter the value of 3rd side:\")\n",
        "if a==b==c:\n",
        "  print(\"Equilateral\")\n",
        "elif (a==b or a==c) or (a==b or b==c) or (a==c or b==c):\n",
        "  print(\"isosceles\")\n",
        "else:\n",
        "    print(\"scalene\")\n",
        "\n",
        "    "
      ]
    },
    {
      "cell_type": "code",
      "source": [
        "#Checking whether entered year is a leap year or not\n",
        "a=int(input(\"enter  year\"))3\n",
        "if a%4==0:\n",
        "  print(\"leap year\")\n",
        "else:\n",
        "  print(\"not a leap year\")"
      ],
      "metadata": {
        "colab": {
          "base_uri": "https://localhost:8080/"
        },
        "id": "Q4moqaR1THrt",
        "outputId": "dee332e3-b6e1-4b01-a0e3-a6cf03012713"
      },
      "execution_count": null,
      "outputs": [
        {
          "output_type": "stream",
          "name": "stdout",
          "text": [
            "enter  year2020\n",
            "leap year\n"
          ]
        }
      ]
    },
    {
      "cell_type": "code",
      "source": [
        "# Find minimum among three numbers\n",
        "a=int(input(\"enetr the first number: \"))\n",
        "b=int(input(\"enter the second number: \"))\n",
        "c=int(input(\"enter the third number: \"))\n",
        "if a<b and a<c:\n",
        "  print(\"first numbere is minimum\")\n",
        "elif b<a and b<c:\n",
        "  print(\"second number is minimum\")\n",
        "else:\n",
        "  print(\"third number is minimum\")\n"
      ],
      "metadata": {
        "colab": {
          "base_uri": "https://localhost:8080/"
        },
        "id": "YzgfWrAmTicE",
        "outputId": "804d0593-bd00-441f-8166-21b4569937be"
      },
      "execution_count": null,
      "outputs": [
        {
          "output_type": "stream",
          "name": "stdout",
          "text": [
            "enetr the first number: 20\n",
            "enter the second number: 30\n",
            "enter the third number: 40\n",
            "first numbere is minimum\n"
          ]
        }
      ]
    },
    {
      "cell_type": "code",
      "source": [
        "#Check whether a number is divisible by 5 and 11 or not.\n",
        "a=int(input(\"enetr the number: \"))\n",
        "if a%5==0 or a%11==0:\n",
        "  print(\"it is divisible\")\n",
        "else:\n",
        "  print(\"not divisible\")"
      ],
      "metadata": {
        "colab": {
          "base_uri": "https://localhost:8080/"
        },
        "id": "AJf3w7UhVC7V",
        "outputId": "70807cf9-c2f6-44d4-a573-01f75369e600"
      },
      "execution_count": null,
      "outputs": [
        {
          "output_type": "stream",
          "name": "stdout",
          "text": [
            "enetr the number: 5\n",
            "it is divisible\n"
          ]
        }
      ]
    },
    {
      "cell_type": "code",
      "source": [
        "#Check whether a number is positive, negative or zero using switch case.\n",
        "a=int(input(\"enetr your number: \"))\n",
        "if a>0:\n",
        "  print(\"+ve\")\n",
        "elif a<0:\n",
        "  print(\"-ve\")\n",
        "else:\n",
        "  print(\"0\")"
      ],
      "metadata": {
        "colab": {
          "base_uri": "https://localhost:8080/"
        },
        "id": "4HudD9xtVrYs",
        "outputId": "a2ba6f59-5fcf-4764-a0bf-7a2b80cfe4bc"
      },
      "execution_count": null,
      "outputs": [
        {
          "output_type": "stream",
          "name": "stdout",
          "text": [
            "enetr your number: 1\n",
            "+\n"
          ]
        }
      ]
    },
    {
      "cell_type": "code",
      "source": [
        ""
      ],
      "metadata": {
        "id": "nrr3QNP0W1Od"
      },
      "execution_count": null,
      "outputs": []
    }
  ]
}